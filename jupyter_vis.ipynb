{
 "cells": [
  {
   "cell_type": "code",
   "execution_count": 1,
   "metadata": {},
   "outputs": [
    {
     "data": {
      "application/vnd.jupyter.widget-view+json": {
       "model_id": "d6dbffc338d54b7f8c82ca116ff0f87f",
       "version_major": 2,
       "version_minor": 0
      },
      "text/plain": [
       "DeckGLWidget(carto_key=None, custom_libraries=[], google_maps_key=None, json_input='{\\n  \"initialViewState\": {…"
      ]
     },
     "execution_count": 1,
     "metadata": {},
     "output_type": "execute_result"
    }
   ],
   "source": [
    "## import packages\n",
    "import pandas as pd\n",
    "import numpy as np\n",
    "import pydeck \n",
    "\n",
    "## read data\n",
    "airbnb = pd.read_csv('airbnb_listings_clean.csv')\n",
    "domain = pd.read_csv('domain_listings_clean.csv')\n",
    "postcoords = pd.read_csv('australian_postcodes.csv')\n",
    "\n",
    "## create summary dataframe for PowerBI\n",
    "#### airbnb\n",
    "\n",
    "airbnb = airbnb.groupby('postcode')['price'].aggregate(['mean','median','count'])\n",
    "airbnb.rename(columns={'mean' : 'airbnb_mean_price', 'median' : 'airbnb_median_price', 'count' : 'airbnb_count'}, inplace=True)\n",
    "airbnb.reset_index(inplace=True)\n",
    "\n",
    "\n",
    "#### domain\n",
    "\n",
    "domain = domain.groupby('postcode')['price'].aggregate(['mean','median','count'])\n",
    "domain.rename(columns={'mean' : 'rental_mean_price', 'median' : 'rental_median_price', 'count' : 'rental_count'}, inplace=True)\n",
    "domain.reset_index(inplace=True)\n",
    "\n",
    "#### combined dataframe\n",
    "\n",
    "combined_summary = domain.merge(airbnb, how='inner', on='postcode')\n",
    "combined_summary['airbnb_rental_ratio'] = (combined_summary['airbnb_count'] / combined_summary['rental_count'])\n",
    "\n",
    "# convert postcodes to shared lat/long for pydeck graphing  \n",
    "postlong = postcoords.set_index('postcode')['long'].to_dict() \n",
    "postlat = postcoords.set_index('postcode')['lat'].to_dict()\n",
    "\n",
    "combined_summary['long'] = combined_summary['postcode'].map(postlong)\n",
    "combined_summary['lat'] = combined_summary['postcode'].map(postlat)\n",
    "\n",
    "## write to csv\n",
    "combined_summary.to_csv('combined_listings_summary.csv', index=False, encoding='utf-8')\n",
    "\n",
    "\n",
    "## create summary dataframe\n",
    "\n",
    "layer_rental = pydeck.Layer(\n",
    "    'ColumnLayer',\n",
    "    combined_summary,\n",
    "    get_position=['long','lat'],\n",
    "    get_elevation=['rental_count'],\n",
    "    elevation_scale=10,\n",
    "    get_fill_color=[55,126,184],\n",
    "    offset=[0.75,-0.75],\n",
    "    pickable=True,\n",
    "    extruded=True,\n",
    "    radius=250\n",
    ")\n",
    "\n",
    "layer_airbnb = pydeck.Layer(\n",
    "    'ColumnLayer',\n",
    "    combined_summary,\n",
    "    get_position=['long','lat'],\n",
    "    get_elevation=['airbnb_count'],\n",
    "    elevation_scale=10,\n",
    "    get_fill_color=[228,26,28],\n",
    "    pickable=True,\n",
    "    extruded=True,\n",
    "    radius=250,\n",
    ")\n",
    "\n",
    "start_view = pydeck.data_utils.compute_view(combined_summary[['long','lat']])\n",
    "start_view.pitch = 75\n",
    "start_view.zoom = 10.5\n",
    "start_view.bearing = 242.5\n",
    "\n",
    "render = pydeck.Deck(layers=[layer_airbnb,layer_rental], map_style='dark', initial_view_state=start_view)\n",
    "\n",
    "render.to_html()\n",
    "\n"
   ]
  }
 ],
 "metadata": {
  "kernelspec": {
   "display_name": "datascience",
   "language": "python",
   "name": "python3"
  },
  "language_info": {
   "codemirror_mode": {
    "name": "ipython",
    "version": 3
   },
   "file_extension": ".py",
   "mimetype": "text/x-python",
   "name": "python",
   "nbconvert_exporter": "python",
   "pygments_lexer": "ipython3",
   "version": "3.10.12"
  },
  "orig_nbformat": 4
 },
 "nbformat": 4,
 "nbformat_minor": 2
}
